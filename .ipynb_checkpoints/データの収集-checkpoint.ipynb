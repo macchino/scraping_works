{
 "cells": [
  {
   "cell_type": "code",
   "execution_count": 1,
   "metadata": {},
   "outputs": [],
   "source": [
    "from bs4 import BeautifulSoup\n",
    "import requests"
   ]
  },
  {
   "cell_type": "code",
   "execution_count": 2,
   "metadata": {},
   "outputs": [],
   "source": [
    "url = 'https://scraping-for-beginner.herokuapp.com/udemy'"
   ]
  },
  {
   "cell_type": "code",
   "execution_count": 5,
   "metadata": {},
   "outputs": [],
   "source": [
    "r=requests.get(url)"
   ]
  },
  {
   "cell_type": "code",
   "execution_count": 6,
   "metadata": {},
   "outputs": [
    {
     "data": {
      "text/plain": [
       "'<!DOCTYPE html>\\n<html lang=\"en\" dir=\"ltr\">\\n<head>\\n  <meta charset=\"utf-8\">\\n  <title>Webスクレイピング入門者のためのサイト</title>\\n  <!-- Compiled and minified CSS -->\\n  <link rel=\"stylesheet\" href=\"https://cdnjs.cloudflare.com/ajax/libs/materialize/1.0.0-rc.2/css/materialize.min.css\">\\n  <link href=\"https://fonts.googleapis.com/icon?family=Material+Icons\" rel=\"stylesheet\"> \\x08\\n  <link rel=\"stylesheet\" href=\"static/assets/css/style.css\">\\n  <link rel=\"stylesheet\" href=\"static/assets/css/udemy.css\">\\n  <!-- <link rel=\"stylesheet\" href=\"static/assets/css/mypage.css\"> -->\\n</head>\\n\\n<body>\\n  <!-- Navbar -->\\n  <div class=\"navbar-fixed\">\\n    <!-- Dropdown Structure -->\\n    <nav class=\"\">\\n      <div class=\"nav-wrapper row\">\\n        <div class=\"col s5 l4 offset-s1 offset-l1\">\\n          <a href=\"\\x08/\" class=\"brand-logo\">Webスクレイピング入門</a>\\n        </div>\\n        <div class=\"col s5 l6\">\\n          <ul id=\"nav-mobile\" class=\"right hide-on-med-and-down\">\\n            <li><a href=\"\\x08/login_page\" class=\"\">ログイン</a></li>\\n            <li><a href=\"/ranking/\" class=\"\">ランキング</a></li>\\n            <li><a href=\"/image\" class=\"\">画像</a></li>\\n            <li><a href=\"/udemy\" class=\"\">Udemy</a></li>\\n            <li><a href=\"https://scraping-for-beginner.readthedocs.io/\" target=”_blank” class=\"\">サンプルコード</a></li>\\n          </ul>\\n        </div>\\n      </div>\\n    </nav>\\n  </div>\\n\\n  \\n\\n<div class=\"row\">\\n  <div class=\"col s4 offset-s4\">\\n    <div class=\"overview\">\\n      <p>\\n      こちらのページは、<b>PythonによるWebスクレイピング〜Webアプリケーション編〜</b>で使用します。\\n      </p>\\n    </div>\\n    <div class=\"\">\\n      <div class=\"\">\\n        <div class=\"card\">\\n          <div class=\"card-image\">\\n            <img src=\"/static/assets/img/self-introduction.jpg\">\\n            <span class=\"card-title\">今西 航平</span>\\n          </div>\\n          <div class=\"card-content\">\\n            <p><b><p class=\"position\">株式会社キカガク 取締役副社長</p></b><br>\\n\\n              東京理科大学在学中に株式会社キカガクに1人目の正社員としてジョイン。大学時代4年間、塾講師として「教育」に熱中し、300名以上の中高生の授業を担当。<br>\\n\\n            </p>\\n          </div>\\n          <div class=\"card-action\">\\n              <p class=\"subscribers\">受講生の数：10231</p>\\n              <p class=\"reviews\">レビューの数：1709</p>\\n          </div>\\n        </div>\\n      </div>\\n    </div>\\n\\n  </div>\\n</div>\\n\\n\\n  <!-- Compiled and minified JavaScript -->\\n  <script src=\"https://code.jquery.com/jquery-3.3.1.min.js\"></script>\\n  <script src=\"https://cdnjs.cloudflare.com/ajax/libs/materialize/1.0.0-rc.2/js/materialize.min.js\"></script>\\n  <script type=\"text/javascript\">\\n    $(document).ready(function() {\\n      $(\".dropdown-trigger\").dropdown();\\n    });\\n  </script>\\n\\n\\n</body>\\n\\n</html>'"
      ]
     },
     "execution_count": 6,
     "metadata": {},
     "output_type": "execute_result"
    }
   ],
   "source": [
    "r.text"
   ]
  },
  {
   "cell_type": "code",
   "execution_count": 7,
   "metadata": {},
   "outputs": [],
   "source": [
    "soup = BeautifulSoup(r.text,'html.parser')"
   ]
  },
  {
   "cell_type": "code",
   "execution_count": 9,
   "metadata": {},
   "outputs": [],
   "source": [
    "# soup"
   ]
  },
  {
   "cell_type": "code",
   "execution_count": 16,
   "metadata": {},
   "outputs": [
    {
     "data": {
      "text/plain": [
       "'今西 航平'"
      ]
     },
     "execution_count": 16,
     "metadata": {},
     "output_type": "execute_result"
    }
   ],
   "source": [
    "name = soup.select('.card-title')[0].string\n",
    "name"
   ]
  },
  {
   "cell_type": "code",
   "execution_count": 48,
   "metadata": {},
   "outputs": [
    {
     "data": {
      "text/plain": [
       "10231"
      ]
     },
     "execution_count": 48,
     "metadata": {},
     "output_type": "execute_result"
    }
   ],
   "source": [
    "n_subscrib = soup.select('.subscribers')[0].string\n",
    "n_subscrib = int(n_subscrib.split('：')[1])\n",
    "n_subscrib"
   ]
  },
  {
   "cell_type": "code",
   "execution_count": 52,
   "metadata": {},
   "outputs": [
    {
     "data": {
      "text/plain": [
       "1709"
      ]
     },
     "execution_count": 52,
     "metadata": {},
     "output_type": "execute_result"
    }
   ],
   "source": [
    "n_reviews = soup.select('.reviews')[0].string\n",
    "n_reviews = int(n_reviews.split('：')[1])\n",
    "n_reviews"
   ]
  },
  {
   "cell_type": "code",
   "execution_count": 53,
   "metadata": {},
   "outputs": [],
   "source": [
    "results = {\n",
    "    'name':name,\n",
    "    'n_subscrib':n_subscrib,\n",
    "    'n_reviews':n_reviews\n",
    "}"
   ]
  },
  {
   "cell_type": "code",
   "execution_count": 54,
   "metadata": {},
   "outputs": [
    {
     "data": {
      "text/plain": [
       "{'name': '今西 航平', 'n_subscrib': 10231, 'n_reviews': 1709}"
      ]
     },
     "execution_count": 54,
     "metadata": {},
     "output_type": "execute_result"
    }
   ],
   "source": [
    "results"
   ]
  },
  {
   "cell_type": "code",
   "execution_count": null,
   "metadata": {},
   "outputs": [],
   "source": []
  }
 ],
 "metadata": {
  "kernelspec": {
   "display_name": "Python 3",
   "language": "python",
   "name": "python3"
  },
  "language_info": {
   "codemirror_mode": {
    "name": "ipython",
    "version": 3
   },
   "file_extension": ".py",
   "mimetype": "text/x-python",
   "name": "python",
   "nbconvert_exporter": "python",
   "pygments_lexer": "ipython3",
   "version": "3.8.5"
  }
 },
 "nbformat": 4,
 "nbformat_minor": 4
}
