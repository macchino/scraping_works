{
 "cells": [
  {
   "cell_type": "code",
   "execution_count": 3,
   "metadata": {},
   "outputs": [
    {
     "name": "stdout",
     "output_type": "stream",
     "text": [
      "Dash is running on http://127.0.0.1:8050/\n",
      "\n",
      " * Serving Flask app \"__main__\" (lazy loading)\n",
      " * Environment: production\n",
      "\u001b[31m   WARNING: This is a development server. Do not use it in a production deployment.\u001b[0m\n",
      "\u001b[2m   Use a production WSGI server instead.\u001b[0m\n",
      " * Debug mode: on\n"
     ]
    },
    {
     "ename": "SystemExit",
     "evalue": "1",
     "output_type": "error",
     "traceback": [
      "An exception has occurred, use %tb to see the full traceback.\n",
      "\u001b[0;31mSystemExit\u001b[0m\u001b[0;31m:\u001b[0m 1\n"
     ]
    },
    {
     "name": "stderr",
     "output_type": "stream",
     "text": [
      "/opt/anaconda3/lib/python3.8/site-packages/IPython/core/interactiveshell.py:3426: UserWarning: To exit: use 'exit', 'quit', or Ctrl-D.\n",
      "  warn(\"To exit: use 'exit', 'quit', or Ctrl-D.\", stacklevel=1)\n"
     ]
    }
   ],
   "source": [
    "import dash\n",
    "import dash_core_components as dcc\n",
    "import dash_html_components as html\n",
    "\n",
    "external_stylesheets = ['https://codepen.io/chriddyp/pen/bWLwgP.css']\n",
    "\n",
    "app = dash.Dash(__name__, external_stylesheets=external_stylesheets)\n",
    "\n",
    "app.layout = html.Div([\n",
    "    html.Label('Dropdown'),\n",
    "    dcc.Dropdown(\n",
    "        options=[\n",
    "            {'label': '佐藤', 'value': 'sato'},\n",
    "            {'label': '鈴木', 'value': 'suzuki'},\n",
    "            {'label': '田中', 'value': 'tanaka'},\n",
    "        ],\n",
    "        value='suzuki'\n",
    "    ),\n",
    "\n",
    "    html.Label('Multi-Select Dropdown'),\n",
    "    dcc.Dropdown(\n",
    "        options=[\n",
    "            {'label': '佐藤', 'value': 'sato'},\n",
    "            {'label': '鈴木', 'value': 'suzuki'},\n",
    "            {'label': '田中', 'value': 'tanaka'},\n",
    "        ],\n",
    "        value=['sato','suzuki'],\n",
    "        multi=True\n",
    "    ),\n",
    "\n",
    "    html.Label('Radio Items'),\n",
    "    dcc.RadioItems(\n",
    "        options=[\n",
    "            {'label': '佐藤', 'value': 'sato'},\n",
    "            {'label': '鈴木', 'value': 'suzuki'},\n",
    "            {'label': '田中', 'value': 'tanaka'},\n",
    "        ],\n",
    "        value='suzuki'\n",
    "    ),\n",
    "\n",
    "    html.Label('Checkboxes'),\n",
    "    dcc.Checklist(\n",
    "        options=[\n",
    "            {'label': '佐藤', 'value': 'sato'},\n",
    "            {'label': '鈴木', 'value': 'suzuki'},\n",
    "            {'label': '田中', 'value': 'tanaka'},\n",
    "        ],\n",
    "        value=['suzuki', 'tanaka']\n",
    "    ),\n",
    "\n",
    "    html.Label('Text Input'),\n",
    "    dcc.Input(value='佐藤', type='text'),\n",
    "\n",
    "    html.Label('Slider'),\n",
    "    dcc.Slider(\n",
    "        min=0,\n",
    "        max=5,\n",
    "        marks={i:str(i) for i in range(1,6)},\n",
    "        value=3\n",
    "    )\n",
    "], style={'columnCount': 2})\n",
    "\n",
    "if __name__ == '__main__':\n",
    "    app.run_server(debug=True)\n"
   ]
  },
  {
   "cell_type": "code",
   "execution_count": 2,
   "metadata": {},
   "outputs": [
    {
     "name": "stdout",
     "output_type": "stream",
     "text": [
      "Collecting dash\n",
      "  Downloading dash-1.18.1.tar.gz (74 kB)\n",
      "\u001b[K     |████████████████████████████████| 74 kB 192 kB/s eta 0:00:01\n",
      "\u001b[?25hRequirement already satisfied: Flask>=1.0.4 in /opt/anaconda3/lib/python3.8/site-packages (from dash) (1.1.2)\n",
      "Requirement already satisfied: future in /opt/anaconda3/lib/python3.8/site-packages (from dash) (0.18.2)\n",
      "Collecting dash-core-components==1.14.1\n",
      "  Downloading dash_core_components-1.14.1.tar.gz (3.5 MB)\n",
      "\u001b[K     |████████████████████████████████| 3.5 MB 1.6 MB/s eta 0:00:01     |██████████████████████          | 2.4 MB 149 kB/s eta 0:00:08\n",
      "\u001b[?25hCollecting dash-html-components==1.1.1\n",
      "  Downloading dash_html_components-1.1.1.tar.gz (188 kB)\n",
      "\u001b[K     |████████████████████████████████| 188 kB 2.2 MB/s eta 0:00:01\n",
      "\u001b[?25hCollecting dash_renderer==1.8.3\n",
      "  Downloading dash_renderer-1.8.3.tar.gz (1.0 MB)\n",
      "\u001b[K     |████████████████████████████████| 1.0 MB 3.9 MB/s eta 0:00:01\n",
      "\u001b[?25hCollecting dash-table==4.11.1\n",
      "  Downloading dash_table-4.11.1.tar.gz (1.8 MB)\n",
      "\u001b[K     |████████████████████████████████| 1.8 MB 3.0 MB/s eta 0:00:01\n",
      "\u001b[?25hRequirement already satisfied: itsdangerous>=0.24 in /opt/anaconda3/lib/python3.8/site-packages (from Flask>=1.0.4->dash) (1.1.0)\n",
      "Requirement already satisfied: click>=5.1 in /opt/anaconda3/lib/python3.8/site-packages (from Flask>=1.0.4->dash) (7.1.2)\n",
      "Requirement already satisfied: Werkzeug>=0.15 in /opt/anaconda3/lib/python3.8/site-packages (from Flask>=1.0.4->dash) (1.0.1)\n",
      "Requirement already satisfied: Jinja2>=2.10.1 in /opt/anaconda3/lib/python3.8/site-packages (from Flask>=1.0.4->dash) (2.11.2)\n",
      "Requirement already satisfied: MarkupSafe>=0.23 in /opt/anaconda3/lib/python3.8/site-packages (from Jinja2>=2.10.1->Flask>=1.0.4->dash) (1.1.1)\n",
      "Collecting flask-compress\n",
      "  Downloading Flask_Compress-1.8.0-py3-none-any.whl (7.2 kB)\n",
      "Collecting brotli\n",
      "  Downloading Brotli-1.0.9-cp38-cp38-manylinux1_x86_64.whl (357 kB)\n",
      "\u001b[K     |████████████████████████████████| 357 kB 3.8 MB/s eta 0:00:01\n",
      "\u001b[?25hCollecting plotly\n",
      "  Downloading plotly-4.14.1-py2.py3-none-any.whl (13.2 MB)\n",
      "\u001b[K     |████████████████████████████████| 13.2 MB 58 kB/s  eta 0:00:01\n",
      "\u001b[?25hRequirement already satisfied: six in /opt/anaconda3/lib/python3.8/site-packages (from plotly->dash) (1.15.0)\n",
      "Collecting retrying>=1.3.3\n",
      "  Downloading retrying-1.3.3.tar.gz (10 kB)\n",
      "Building wheels for collected packages: dash, dash-core-components, dash-html-components, dash-renderer, dash-table, retrying\n",
      "  Building wheel for dash (setup.py) ... \u001b[?25ldone\n",
      "\u001b[?25h  Created wheel for dash: filename=dash-1.18.1-py3-none-any.whl size=83680 sha256=54dfd7ebfe4d7fbc83d0d6c62e17baf95180021ebc39eae5f22e52942f34a618\n",
      "  Stored in directory: /root/.cache/pip/wheels/33/6f/03/094db0f27625579ae1ae85fb385dedc7e3dc6d8de8cd6146f7\n",
      "  Building wheel for dash-core-components (setup.py) ... \u001b[?25ldone\n",
      "\u001b[?25h  Created wheel for dash-core-components: filename=dash_core_components-1.14.1-py3-none-any.whl size=3525930 sha256=642fdb9200551da831f68236e88530a1f99bb0090cb14442be68a1187c10f667\n",
      "  Stored in directory: /root/.cache/pip/wheels/4f/83/9f/bf95c8533a915b0588f84324257ae92bc1207d325000c9fa5e\n",
      "  Building wheel for dash-html-components (setup.py) ... \u001b[?25ldone\n",
      "\u001b[?25h  Created wheel for dash-html-components: filename=dash_html_components-1.1.1-py3-none-any.whl size=427894 sha256=370f776760a069cfeaf582776bf38f7b969b18f72c9f9bb50d47b9c12e95e668\n",
      "  Stored in directory: /root/.cache/pip/wheels/ed/fc/1c/f68ef111763cc328876457a871024052e0b48950c63bc1ac04\n",
      "  Building wheel for dash-renderer (setup.py) ... \u001b[?25ldone\n",
      "\u001b[?25h  Created wheel for dash-renderer: filename=dash_renderer-1.8.3-py3-none-any.whl size=1013944 sha256=da717d4965934b34d104d715b4bdfc3bf947b0cb0b39eaec49323b9121e2b5f4\n",
      "  Stored in directory: /root/.cache/pip/wheels/82/4d/8c/0764de014b25313cf54199f212bad4fb4b228ecfaef58be3b9\n",
      "  Building wheel for dash-table (setup.py) ... \u001b[?25ldone\n",
      "\u001b[?25h  Created wheel for dash-table: filename=dash_table-4.11.1-py3-none-any.whl size=1839867 sha256=76746adcf9e807d9d9f501d88af04ab8f088c128d2feb70db2bfdbdd0c67f725\n",
      "  Stored in directory: /root/.cache/pip/wheels/0d/19/4a/9dbfa67779caa671ffec1124c0c7fe60184497b971a619036c\n",
      "  Building wheel for retrying (setup.py) ... \u001b[?25ldone\n",
      "\u001b[?25h  Created wheel for retrying: filename=retrying-1.3.3-py3-none-any.whl size=11429 sha256=3609c7c42c1804c657a4fe21418fa10494e51ec7e2e5d695b1e7217c7af9629d\n",
      "  Stored in directory: /root/.cache/pip/wheels/c4/a7/48/0a434133f6d56e878ca511c0e6c38326907c0792f67b476e56\n",
      "Successfully built dash dash-core-components dash-html-components dash-renderer dash-table retrying\n",
      "Installing collected packages: retrying, brotli, plotly, flask-compress, dash-table, dash-renderer, dash-html-components, dash-core-components, dash\n",
      "Successfully installed brotli-1.0.9 dash-1.18.1 dash-core-components-1.14.1 dash-html-components-1.1.1 dash-renderer-1.8.3 dash-table-4.11.1 flask-compress-1.8.0 plotly-4.14.1 retrying-1.3.3\n"
     ]
    }
   ],
   "source": [
    "!pip install dash\n"
   ]
  },
  {
   "cell_type": "code",
   "execution_count": null,
   "metadata": {},
   "outputs": [],
   "source": []
  }
 ],
 "metadata": {
  "kernelspec": {
   "display_name": "Python 3",
   "language": "python",
   "name": "python3"
  },
  "language_info": {
   "codemirror_mode": {
    "name": "ipython",
    "version": 3
   },
   "file_extension": ".py",
   "mimetype": "text/x-python",
   "name": "python",
   "nbconvert_exporter": "python",
   "pygments_lexer": "ipython3",
   "version": "3.8.5"
  }
 },
 "nbformat": 4,
 "nbformat_minor": 4
}
